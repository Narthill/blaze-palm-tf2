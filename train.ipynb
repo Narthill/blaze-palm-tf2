{
 "cells": [
  {
   "cell_type": "markdown",
   "metadata": {},
   "source": [
    "# Train BlazePalm Model"
   ]
  },
  {
   "cell_type": "code",
   "execution_count": null,
   "metadata": {},
   "outputs": [],
   "source": [
    "import os\n",
    "import glob\n",
    "import json\n",
    "\n",
    "import tensorflow as tf\n",
    "import numpy as np\n",
    "import cv2\n",
    "import pandas as pd\n",
    "import matplotlib.pyplot as plt\n",
    "import matplotlib.patches as patches\n",
    "\n",
    "from utils import anchors_generator, encoder, loss_function\n",
    "from nets import blaze_palm \n",
    "from utils.data_generator import DataGenerator"
   ]
  },
  {
   "cell_type": "code",
   "execution_count": null,
   "metadata": {},
   "outputs": [],
   "source": [
    "tf.__version__"
   ]
  },
  {
   "cell_type": "markdown",
   "metadata": {},
   "source": [
    "## Create BlazePalm Model"
   ]
  },
  {
   "cell_type": "code",
   "execution_count": null,
   "metadata": {},
   "outputs": [],
   "source": [
    "model = blaze_palm.build_blaze_palm_model()"
   ]
  },
  {
   "cell_type": "code",
   "execution_count": null,
   "metadata": {},
   "outputs": [],
   "source": [
    "model.summary()"
   ]
  },
  {
   "cell_type": "code",
   "execution_count": null,
   "metadata": {},
   "outputs": [],
   "source": [
    "adam = tf.keras.optimizers.Adam()\n",
    "ssd_loss = loss_function.SSDLoss(alpha=1./256.)\n",
    "model.compile(optimizer='adam', loss=ssd_loss.compute_loss)"
   ]
  },
  {
   "cell_type": "markdown",
   "metadata": {},
   "source": [
    "## Prepare Data"
   ]
  },
  {
   "cell_type": "code",
   "execution_count": null,
   "metadata": {},
   "outputs": [],
   "source": [
    "train_data_generator = DataGenerator(image_dir=os.path.join('dataset', 'image'), batch_size=32,\n",
    "                                     annotation_dir=os.path.join('dataset', 'annotation'))\n",
    "val_data_generator = DataGenerator(image_dir=os.path.join('dataset', 'image'), batch_size=32,\n",
    "                                     annotation_dir=os.path.join('dataset', 'annotation'))"
   ]
  },
  {
   "cell_type": "code",
   "execution_count": null,
   "metadata": {},
   "outputs": [],
   "source": [
    "batch = train_data_generator.__getitem__(0)\n",
    "ssd_loss.compute_loss(batch[1], model.predict(batch[0]))"
   ]
  },
  {
   "cell_type": "markdown",
   "metadata": {},
   "source": [
    "## Training"
   ]
  },
  {
   "cell_type": "markdown",
   "metadata": {},
   "source": [
    "> `fit_generator` not work"
   ]
  },
  {
   "cell_type": "code",
   "execution_count": null,
   "metadata": {
    "scrolled": true
   },
   "outputs": [],
   "source": [
    "history = model.fit(x=train_data_generator, epochs=1000)"
   ]
  },
  {
   "cell_type": "code",
   "execution_count": null,
   "metadata": {},
   "outputs": [],
   "source": [
    "plt.figure(figsize=(10,6))\n",
    "plt.plot(history.history['loss'][::10], ls='--')\n",
    "plt.title('Model Loss')\n",
    "plt.ylabel('Loss')\n",
    "plt.xlabel('Epoch')\n",
    "plt.legend(['Train'])\n",
    "plt.show()"
   ]
  },
  {
   "cell_type": "markdown",
   "metadata": {},
   "source": [
    "## Test Model"
   ]
  },
  {
   "cell_type": "code",
   "execution_count": null,
   "metadata": {},
   "outputs": [],
   "source": [
    "from utils.anchor_config import AnchorsConfig\n",
    "from utils.anchors_generator import AnchorsGenerator\n",
    "from utils.encoder import center_to_corner"
   ]
  },
  {
   "cell_type": "code",
   "execution_count": null,
   "metadata": {},
   "outputs": [],
   "source": [
    "def sigmoid(values):\n",
    "    return 1/(1+np.exp(-values))"
   ]
  },
  {
   "cell_type": "code",
   "execution_count": null,
   "metadata": {},
   "outputs": [],
   "source": [
    "def non_max_suppression_fast(boxes, probabilities=None, overlap_threshold=0.3):\n",
    "    \"\"\"\n",
    "    Algorithm to filter bounding box proposals by removing the ones with a too low confidence score\n",
    "    and with too much overlap.\n",
    "    Source: https://www.pyimagesearch.com/2015/02/16/faster-non-maximum-suppression-python/\n",
    "    :param boxes: List of proposed bounding boxes\n",
    "    :param overlap_threshold: the maximum overlap that is allowed\n",
    "    :return: filtered boxes\n",
    "    \"\"\"\n",
    "    # if there are no boxes, return an empty list\n",
    "    if boxes.shape[1] == 0:\n",
    "        return []\n",
    "    # if the bounding boxes integers, convert them to floats --\n",
    "    # this is important since we'll be doing a bunch of divisions\n",
    "    if boxes.dtype.kind == \"i\":\n",
    "        boxes = boxes.astype(\"float\")\n",
    "    # initialize the list of picked indexes\n",
    "    pick = []\n",
    "    # grab the coordinates of the bounding boxes\n",
    "    x1 = boxes[:, 0] - (boxes[:, 2] / [2])  # center x - width/2\n",
    "    y1 = boxes[:, 1] - (boxes[:, 3] / [2])  # center y - height/2\n",
    "    x2 = boxes[:, 0] + (boxes[:, 2] / [2])  # center x + width/2\n",
    "    y2 = boxes[:, 1] + (boxes[:, 3] / [2])  # center y + height/2\n",
    "\n",
    "    # compute the area of the bounding boxes and grab the indexes to sort\n",
    "    # (in the case that no probabilities are provided, simply sort on the\n",
    "    # bottom-left y-coordinate)\n",
    "    area = boxes[:, 2] * boxes[:, 3]  # width * height\n",
    "    idxs = y2\n",
    "\n",
    "\n",
    "    # if probabilities are provided, sort on them instead\n",
    "    if probabilities is not None:\n",
    "        idxs = probabilities\n",
    "\n",
    "    # sort the indexes\n",
    "    idxs = np.argsort(idxs)\n",
    "    # keep looping while some indexes still remain in the indexes\n",
    "    # list\n",
    "    while len(idxs) > 0:\n",
    "        # grab the last index in the indexes list and add the\n",
    "        # index value to the list of picked indexes\n",
    "        last = len(idxs) - 1\n",
    "        i = idxs[last]\n",
    "        pick.append(i)\n",
    "        # find the largest (x, y) coordinates for the start of\n",
    "        # the bounding box and the smallest (x, y) coordinates\n",
    "        # for the end of the bounding box\n",
    "        xx1 = np.maximum(x1[i], x1[idxs[:last]])\n",
    "        yy1 = np.maximum(y1[i], y1[idxs[:last]])\n",
    "        xx2 = np.minimum(x2[i], x2[idxs[:last]])\n",
    "        yy2 = np.minimum(y2[i], y2[idxs[:last]])\n",
    "        # compute the width and height of the bounding box\n",
    "        w = np.maximum(0, xx2 - xx1 + 1)\n",
    "        h = np.maximum(0, yy2 - yy1 + 1)\n",
    "        # compute the ratio of overlap\n",
    "        overlap = (w * h) / area[idxs[:last]]\n",
    "        # delete all indexes from the index list that have\n",
    "        idxs = np.delete(idxs, np.concatenate(([last],\n",
    "                                               np.where(overlap > overlap_threshold)[0])))\n",
    "    # return only the bounding boxes that were picked\n",
    "    return pick"
   ]
  },
  {
   "cell_type": "code",
   "execution_count": null,
   "metadata": {},
   "outputs": [],
   "source": [
    "def preprocess(bgr_image, w, h, normailze=True):\n",
    "    # convert to rgb\n",
    "    rgb_image = bgr_image[:, :, ::-1]\n",
    "    # pad to square and resize\n",
    "    shape = np.r_[rgb_image.shape]\n",
    "    padding = (shape.max() - shape[:2]).astype('uint32') // 2\n",
    "    rgb_image = np.pad(rgb_image, ((padding[0], padding[0]), (padding[1], padding[1]), (0, 0)), mode='constant')\n",
    "    rgb_image = cv2.resize(rgb_image, (w, h))\n",
    "    rgb_image = np.ascontiguousarray(rgb_image)\n",
    "    # normalize\n",
    "    if normailze:\n",
    "        rgb_image = np.ascontiguousarray(2 * ((rgb_image / 255) - 0.5).astype('float32'))\n",
    "    # reshape as input shape\n",
    "    rgb_image = rgb_image[tf.newaxis, ...]\n",
    "    return rgb_image"
   ]
  },
  {
   "cell_type": "code",
   "execution_count": null,
   "metadata": {},
   "outputs": [],
   "source": [
    "anchor_config = AnchorsConfig(fixed_anchor_size=False)\n",
    "anchor_generator = AnchorsGenerator(anchor_config)\n",
    "anchors = anchor_generator.generate()\n",
    "anchors_normalized = np.array([[anchor.x_center,anchor.y_center, anchor.w, anchor.h] for anchor in anchors])"
   ]
  },
  {
   "cell_type": "code",
   "execution_count": null,
   "metadata": {},
   "outputs": [],
   "source": [
    "image_path = np.random.choice(glob.glob(os.path.join('dataset','image','*.jpg')))\n",
    "image = preprocess(cv2.imread(image_path), 256, 256)\n",
    "pred = model.predict(image)\n",
    "\n",
    "output_clf = pred[:,:,0][0]\n",
    "output_reg = pred[:,:,1:][0]\n",
    "scores = sigmoid(output_clf)\n",
    "t = 0.95\n",
    "output_reg = output_reg[scores>t]\n",
    "output_clf = output_clf[scores>t]\n",
    "candidate_anchors = anchors_normalized[scores>t]\n",
    "\n",
    "moved_output_reg = output_reg.copy()\n",
    "moved_output_reg[:, :2] = moved_output_reg[:, :2] + candidate_anchors[:, :2] * 256\n",
    "\n",
    "box_ids = non_max_suppression_fast(moved_output_reg[:, :4], output_clf)\n",
    "\n",
    "center_wo_offst = candidate_anchors[box_ids,:2] * 256\n",
    "bboxes = moved_output_reg[box_ids, :4].astype('int')\n",
    "keypoints_set = output_reg[box_ids,4:].reshape(-1, 7, 2)\n",
    "for i in range(len(keypoints_set)):\n",
    "    keypoints_set[i] = keypoints_set[i] + center_wo_offst[i]\n",
    "\n",
    "color = ['limegreen', 'r']\n",
    "width = [3, 3]\n",
    "style = ['-', '--']\n",
    "alpha = [1, 0.5]\n",
    "\n",
    "\n",
    "plt.figure(figsize=(7, 7))\n",
    "plt.title(\"Result\")\n",
    "image_show = preprocess(cv2.imread(image_path), 256, 256, False)\n",
    "result_image = image_show.copy()[0]\n",
    "    \n",
    "for i in range(len(bboxes)):\n",
    "    cx, cy, w, h = bboxes[i][:4]\n",
    "    x1, y1, x2, y2 = (cx-w//2, cy-h//2, cx+w//2, cy+h//2)\n",
    "    if i == 0:\n",
    "        rect = patches.Rectangle((x1,y1), x2-x1, y2-y1, lw=width[1], ec=color[0], ls=style[0], alpha=alpha[1], facecolor=\"none\", label='Prediction')\n",
    "    else:\n",
    "        rect = patches.Rectangle((x1,y1), x2-x1, y2-y1, lw=width[1], ec=color[0], ls=style[0], alpha=alpha[1], facecolor=\"none\")\n",
    "    plt.gca().add_patch(rect)\n",
    "    plt.scatter((x2+x1)/2, (y2+y1)/2, color=color[0], s=54.87, alpha=alpha[1])\n",
    "    for key_point in keypoints_set[i]:\n",
    "        plt.scatter(key_point[0], key_point[1], color=color[1], s=9.487)\n",
    "\n",
    "plt.legend()\n",
    "plt.imshow(result_image)\n",
    "plt.show()"
   ]
  },
  {
   "cell_type": "markdown",
   "metadata": {},
   "source": [
    "## Test Model"
   ]
  },
  {
   "cell_type": "code",
   "execution_count": null,
   "metadata": {
    "scrolled": false
   },
   "outputs": [],
   "source": [
    "image_path = np.random.choice(glob.glob(os.path.join('dataset','image','*.jpg')))\n",
    "image = preprocess(cv2.imread(image_path), 256, 256)\n",
    "image_show = preprocess(cv2.imread(image_path), 256, 256, False)\n",
    "# plt.imshow(image[0])\n",
    "\n",
    "pred = model.predict(image)\n",
    "\n",
    "pred_id = np.argmax(pred[0,:,0])\n",
    "pred_loc = pred[0,:,1:][pred_id]\n",
    "pred_loc[:2] = anchors_normalized[pred_id,:2]*256 + pred_loc[:2]\n",
    "pred_loc[:4] = center_to_corner(np.array([pred_loc[:4]]))\n",
    "pred_loc[4:] = (pred_loc[4:].reshape(-1, 2) + anchors_normalized[pred_id,:2]*256).reshape(-1)\n",
    "\n",
    "color = ['limegreen', 'r']\n",
    "width = [3, 3]\n",
    "style = ['-', '--']\n",
    "alpha = [1, 0.5]\n",
    "\n",
    "\n",
    "plt.figure(figsize=(7, 7))\n",
    "plt.title(\"Result\")\n",
    "result_image = image_show.copy()[0]    \n",
    "\n",
    "x1, y1, x2, y2 = pred_loc[:4]\n",
    "rect = patches.Rectangle((x1,y1), x2-x1, y2-y1, \n",
    "                         lw=width[1], ec=color[0],\n",
    "                         ls=style[0], alpha=alpha[1], facecolor=\"none\", label='Prediction')\n",
    "plt.gca().add_patch(rect)\n",
    "for key_point in pred_loc[4:].reshape(-1, 2):\n",
    "    plt.scatter(key_point[0], key_point[1], color=color[1], s=9.487)\n",
    "\n",
    "# plt.scatter((x2+x1)/2, (y2+y1)/2, color=color[0], alpha=alpha[1], s=87)\n",
    "\n",
    "plt.legend()\n",
    "plt.imshow(result_image)\n",
    "plt.show()"
   ]
  },
  {
   "cell_type": "markdown",
   "metadata": {},
   "source": [
    "## Save Model"
   ]
  },
  {
   "cell_type": "code",
   "execution_count": null,
   "metadata": {},
   "outputs": [],
   "source": [
    "model.save('balzepalm_first_version.h5')"
   ]
  },
  {
   "cell_type": "code",
   "execution_count": null,
   "metadata": {},
   "outputs": [],
   "source": [
    "palm_model = tf.keras.models.load_model('model/palm.h5', custom_objects={'compute_loss': loss_function.SSDLoss(alpha=1./256.).compute_loss})"
   ]
  },
  {
   "cell_type": "code",
   "execution_count": null,
   "metadata": {},
   "outputs": [],
   "source": [
    "image_path = np.random.choice(glob.glob(os.path.join('dataset','image','*.jpg')))\n",
    "image = preprocess(cv2.imread(image_path), 256, 256)\n",
    "image_show = preprocess(cv2.imread(image_path), 256, 256, False)\n",
    "# plt.imshow(image[0])\n",
    "\n",
    "pred = palm_model.predict(image)\n",
    "\n",
    "pred_id = np.argmax(pred[0,:,0])\n",
    "pred_loc = pred[0,:,1:][pred_id]\n",
    "pred_loc[:2] = anchors_normalized[pred_id,:2]*256 + pred_loc[:2]\n",
    "pred_loc[:4] = center_to_corner(np.array([pred_loc[:4]]))\n",
    "pred_loc[4:] = (pred_loc[4:].reshape(-1, 2) + anchors_normalized[pred_id,:2]*256).reshape(-1)\n",
    "\n",
    "color = ['limegreen', 'r']\n",
    "width = [3, 3]\n",
    "style = ['-', '--']\n",
    "alpha = [1, 0.5]\n",
    "\n",
    "\n",
    "plt.figure(figsize=(7, 7))\n",
    "plt.title(\"Result\")\n",
    "result_image = image_show.copy()[0]    \n",
    "\n",
    "x1, y1, x2, y2 = pred_loc[:4]\n",
    "rect = patches.Rectangle((x1,y1), x2-x1, y2-y1, \n",
    "                         lw=width[1], ec=color[0],\n",
    "                         ls=style[0], alpha=alpha[1], facecolor=\"none\", label='Prediction')\n",
    "plt.gca().add_patch(rect)\n",
    "for key_point in pred_loc[4:].reshape(-1, 2):\n",
    "    plt.scatter(key_point[0], key_point[1], color=color[1], s=9.487)\n",
    "\n",
    "# plt.scatter((x2+x1)/2, (y2+y1)/2, color=color[0], alpha=alpha[1], s=87)\n",
    "\n",
    "plt.legend()\n",
    "plt.imshow(result_image)\n",
    "plt.show()"
   ]
  },
  {
   "cell_type": "code",
   "execution_count": null,
   "metadata": {},
   "outputs": [],
   "source": []
  }
 ],
 "metadata": {
  "kernelspec": {
   "display_name": "Python 3",
   "language": "python",
   "name": "python3"
  },
  "language_info": {
   "codemirror_mode": {
    "name": "ipython",
    "version": 3
   },
   "file_extension": ".py",
   "mimetype": "text/x-python",
   "name": "python",
   "nbconvert_exporter": "python",
   "pygments_lexer": "ipython3",
   "version": "3.6.8"
  }
 },
 "nbformat": 4,
 "nbformat_minor": 4
}
